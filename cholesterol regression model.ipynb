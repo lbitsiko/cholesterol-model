{
 "cells": [
  {
   "cell_type": "markdown",
   "id": "c3e69921-da3d-4b98-a834-c8345dcaa809",
   "metadata": {},
   "source": [
    "# Cholesterol data regression model\n",
    "The data in cholesterol.txt include the total cholesterol levels ($mg//ml$) of 24 patients ($y$) and their age ($x$).\n",
    "* Plot a scatter plot between $y$ and $x$ and fit a linear regression model to the data.\n",
    "* Test the hypothesis $H_0$: $\\beta_1 = 0$ versus $H_1$: $\\beta_1\\neq 0 $ and calculate a $0.95$-confidence interval for the parameter of $x$ in the fitted model. How do we interpret $\\beta_1$?\n",
    "* Calculate a $0.95$-confidence interval for the cholesterol levels of a 35 years old patient as well as for the $E(y)$\n",
    "* Use a graphic normality test and plot the residuals, $e_i$ vs the fitted values $\\hat{y}_i$. What can we infer?\n",
    "\n",
    "(Assignment for the course *Statistical Models* taught by Prof. Chrysseis Caroni, NTUA)"
   ]
  },
  {
   "cell_type": "markdown",
   "id": "5b17f5a4-7fc8-4830-88af-adac58f5f988",
   "metadata": {},
   "source": [
    "## Import data"
   ]
  },
  {
   "cell_type": "code",
   "execution_count": 1,
   "id": "3a8ba3a1-fed8-4bd4-a350-def91e1a839f",
   "metadata": {},
   "outputs": [],
   "source": [
    "import pandas as pd"
   ]
  },
  {
   "cell_type": "code",
   "execution_count": 2,
   "id": "445c3bfe-a3b3-4d28-b652-20a24f927fe3",
   "metadata": {},
   "outputs": [],
   "source": [
    "import os"
   ]
  },
  {
   "cell_type": "code",
   "execution_count": 3,
   "id": "212ece30-162b-4bda-b687-b5372091fd1e",
   "metadata": {},
   "outputs": [],
   "source": [
    "# clean file structure\n",
    "try:\n",
    "    os.mkdir('./data')\n",
    "except FileExistsError:\n",
    "    pass\n",
    "\n",
    "try:\n",
    "    os.replace('./cholesterol.txt', './data/cholesterol.txt')\n",
    "except FileNotFoundError:\n",
    "    pass"
   ]
  },
  {
   "cell_type": "code",
   "execution_count": 4,
   "id": "ccd2a23c-8d7f-49d4-b4d7-f976ee904008",
   "metadata": {},
   "outputs": [
    {
     "data": {
      "text/html": [
       "<div>\n",
       "<style scoped>\n",
       "    .dataframe tbody tr th:only-of-type {\n",
       "        vertical-align: middle;\n",
       "    }\n",
       "\n",
       "    .dataframe tbody tr th {\n",
       "        vertical-align: top;\n",
       "    }\n",
       "\n",
       "    .dataframe thead th {\n",
       "        text-align: right;\n",
       "    }\n",
       "</style>\n",
       "<table border=\"1\" class=\"dataframe\">\n",
       "  <thead>\n",
       "    <tr style=\"text-align: right;\">\n",
       "      <th></th>\n",
       "      <th>y</th>\n",
       "      <th>x</th>\n",
       "    </tr>\n",
       "  </thead>\n",
       "  <tbody>\n",
       "    <tr>\n",
       "      <th>0</th>\n",
       "      <td>3.5</td>\n",
       "      <td>46</td>\n",
       "    </tr>\n",
       "    <tr>\n",
       "      <th>1</th>\n",
       "      <td>4.5</td>\n",
       "      <td>57</td>\n",
       "    </tr>\n",
       "    <tr>\n",
       "      <th>2</th>\n",
       "      <td>2.1</td>\n",
       "      <td>22</td>\n",
       "    </tr>\n",
       "    <tr>\n",
       "      <th>3</th>\n",
       "      <td>2.5</td>\n",
       "      <td>22</td>\n",
       "    </tr>\n",
       "    <tr>\n",
       "      <th>4</th>\n",
       "      <td>2.3</td>\n",
       "      <td>28</td>\n",
       "    </tr>\n",
       "    <tr>\n",
       "      <th>5</th>\n",
       "      <td>3.3</td>\n",
       "      <td>29</td>\n",
       "    </tr>\n",
       "    <tr>\n",
       "      <th>6</th>\n",
       "      <td>1.9</td>\n",
       "      <td>20</td>\n",
       "    </tr>\n",
       "    <tr>\n",
       "      <th>7</th>\n",
       "      <td>3.0</td>\n",
       "      <td>25</td>\n",
       "    </tr>\n",
       "    <tr>\n",
       "      <th>8</th>\n",
       "      <td>3.8</td>\n",
       "      <td>43</td>\n",
       "    </tr>\n",
       "    <tr>\n",
       "      <th>9</th>\n",
       "      <td>4.6</td>\n",
       "      <td>63</td>\n",
       "    </tr>\n",
       "    <tr>\n",
       "      <th>10</th>\n",
       "      <td>4.0</td>\n",
       "      <td>49</td>\n",
       "    </tr>\n",
       "    <tr>\n",
       "      <th>11</th>\n",
       "      <td>3.2</td>\n",
       "      <td>34</td>\n",
       "    </tr>\n",
       "    <tr>\n",
       "      <th>12</th>\n",
       "      <td>4.0</td>\n",
       "      <td>52</td>\n",
       "    </tr>\n",
       "    <tr>\n",
       "      <th>13</th>\n",
       "      <td>2.9</td>\n",
       "      <td>28</td>\n",
       "    </tr>\n",
       "    <tr>\n",
       "      <th>14</th>\n",
       "      <td>4.1</td>\n",
       "      <td>57</td>\n",
       "    </tr>\n",
       "    <tr>\n",
       "      <th>15</th>\n",
       "      <td>3.2</td>\n",
       "      <td>40</td>\n",
       "    </tr>\n",
       "    <tr>\n",
       "      <th>16</th>\n",
       "      <td>4.3</td>\n",
       "      <td>52</td>\n",
       "    </tr>\n",
       "    <tr>\n",
       "      <th>17</th>\n",
       "      <td>2.5</td>\n",
       "      <td>24</td>\n",
       "    </tr>\n",
       "    <tr>\n",
       "      <th>18</th>\n",
       "      <td>2.6</td>\n",
       "      <td>30</td>\n",
       "    </tr>\n",
       "    <tr>\n",
       "      <th>19</th>\n",
       "      <td>3.8</td>\n",
       "      <td>36</td>\n",
       "    </tr>\n",
       "    <tr>\n",
       "      <th>20</th>\n",
       "      <td>3.0</td>\n",
       "      <td>33</td>\n",
       "    </tr>\n",
       "    <tr>\n",
       "      <th>21</th>\n",
       "      <td>4.2</td>\n",
       "      <td>48</td>\n",
       "    </tr>\n",
       "    <tr>\n",
       "      <th>22</th>\n",
       "      <td>3.9</td>\n",
       "      <td>58</td>\n",
       "    </tr>\n",
       "    <tr>\n",
       "      <th>23</th>\n",
       "      <td>3.3</td>\n",
       "      <td>50</td>\n",
       "    </tr>\n",
       "  </tbody>\n",
       "</table>\n",
       "</div>"
      ],
      "text/plain": [
       "      y   x\n",
       "0   3.5  46\n",
       "1   4.5  57\n",
       "2   2.1  22\n",
       "3   2.5  22\n",
       "4   2.3  28\n",
       "5   3.3  29\n",
       "6   1.9  20\n",
       "7   3.0  25\n",
       "8   3.8  43\n",
       "9   4.6  63\n",
       "10  4.0  49\n",
       "11  3.2  34\n",
       "12  4.0  52\n",
       "13  2.9  28\n",
       "14  4.1  57\n",
       "15  3.2  40\n",
       "16  4.3  52\n",
       "17  2.5  24\n",
       "18  2.6  30\n",
       "19  3.8  36\n",
       "20  3.0  33\n",
       "21  4.2  48\n",
       "22  3.9  58\n",
       "23  3.3  50"
      ]
     },
     "execution_count": 4,
     "metadata": {},
     "output_type": "execute_result"
    }
   ],
   "source": [
    "df = pd.read_table('./data/cholesterol.txt',delimiter = ' ')\n",
    "df"
   ]
  },
  {
   "cell_type": "markdown",
   "id": "5d2a8da9-dc30-48f6-a93f-806f206868f1",
   "metadata": {},
   "source": [
    "## Histograms"
   ]
  },
  {
   "cell_type": "code",
   "execution_count": 5,
   "id": "d5a95435-0dfd-43ac-bd54-f031cbd7ec4a",
   "metadata": {},
   "outputs": [],
   "source": [
    "import seaborn as sns"
   ]
  },
  {
   "cell_type": "code",
   "execution_count": 6,
   "id": "5c8a8141-30da-44aa-9d9f-dd45b628f412",
   "metadata": {},
   "outputs": [
    {
     "data": {
      "text/plain": [
       "<seaborn.axisgrid.FacetGrid at 0x23bc5680dc0>"
      ]
     },
     "execution_count": 6,
     "metadata": {},
     "output_type": "execute_result"
    },
    {
     "data": {
      "image/png": "[encoded data removed]",
      "text/plain": [
       "<Figure size 360x360 with 1 Axes>"
      ]
     },
     "metadata": {
      "needs_background": "light"
     },
     "output_type": "display_data"
    }
   ],
   "source": [
    "sns.displot(df.x.values, bins = 4)"
   ]
  },
  {
   "cell_type": "code",
   "execution_count": 7,
   "id": "881c8c5d-7027-49c6-95e7-458cdc2d8e49",
   "metadata": {},
   "outputs": [
    {
     "data": {
      "text/plain": [
       "<seaborn.axisgrid.FacetGrid at 0x23bc7b345e0>"
      ]
     },
     "execution_count": 7,
     "metadata": {},
     "output_type": "execute_result"
    },
    {
     "data": {
      "image/png": "[encoded data removed]",
      "text/plain": [
       "<Figure size 360x360 with 1 Axes>"
      ]
     },
     "metadata": {
      "needs_background": "light"
     },
     "output_type": "display_data"
    }
   ],
   "source": [
    "sns.displot(df.y.values, bins = 4)"
   ]
  },
  {
   "cell_type": "markdown",
   "id": "c5ab7877-0947-4581-aba3-ac16ff462894",
   "metadata": {},
   "source": [
    "## Fit a linear model"
   ]
  },
  {
   "cell_type": "code",
   "execution_count": 8,
   "id": "fdac3420-a3d2-4cac-944f-31491fc3fd30",
   "metadata": {},
   "outputs": [],
   "source": [
    "from sklearn.linear_model import LinearRegression "
   ]
  },
  {
   "cell_type": "code",
   "execution_count": 9,
   "id": "45a51571-0022-48ec-8a27-d8d2b090f04f",
   "metadata": {},
   "outputs": [],
   "source": [
    "model_sklearn = LinearRegression()"
   ]
  },
  {
   "cell_type": "code",
   "execution_count": 10,
   "id": "3e97be6a-d138-4c8e-afdc-d0357cdc5425",
   "metadata": {},
   "outputs": [],
   "source": [
    "X = df.x.values.reshape(-1, 1)\n",
    "Y = df.y.values.reshape(-1, 1)"
   ]
  },
  {
   "cell_type": "code",
   "execution_count": 11,
   "id": "e57cf851-eb39-41e2-8188-44a85440c49f",
   "metadata": {},
   "outputs": [
    {
     "data": {
      "text/plain": [
       "LinearRegression()"
      ]
     },
     "execution_count": 11,
     "metadata": {},
     "output_type": "execute_result"
    }
   ],
   "source": [
    "model_sklearn.fit(X, Y)"
   ]
  },
  {
   "cell_type": "markdown",
   "id": "53db8862-7016-40b6-9071-b4f18cc2a5be",
   "metadata": {},
   "source": [
    "## Scatter plot with fitted model"
   ]
  },
  {
   "cell_type": "code",
   "execution_count": 12,
   "id": "eb219587-18f0-4c16-9b6a-d18018158a31",
   "metadata": {},
   "outputs": [],
   "source": [
    "import matplotlib.pyplot as plt"
   ]
  },
  {
   "cell_type": "code",
   "execution_count": 13,
   "id": "0b35152e-55cc-4d9f-af86-11abe8eecfd4",
   "metadata": {},
   "outputs": [
    {
     "data": {
      "text/plain": [
       "Text(0, 0.5, 'y')"
      ]
     },
     "execution_count": 13,
     "metadata": {},
     "output_type": "execute_result"
    },
    {
     "data": {
      "image/png": "[encoded data removed]",
      "text/plain": [
       "<Figure size 432x288 with 1 Axes>"
      ]
     },
     "metadata": {
      "needs_background": "light"
     },
     "output_type": "display_data"
    }
   ],
   "source": [
    "plt.scatter(X, Y)\n",
    "plt.plot(X, model_sklearn.predict(X) , 'tab:orange')\n",
    "plt.xlabel('x')\n",
    "plt.ylabel('y')"
   ]
  },
  {
   "cell_type": "code",
   "execution_count": 14,
   "id": "556a9ccd-84e7-49a2-8668-e946ec49f5c9",
   "metadata": {},
   "outputs": [
    {
     "data": {
      "text/plain": [
       "array([1.27986835])"
      ]
     },
     "execution_count": 14,
     "metadata": {},
     "output_type": "execute_result"
    }
   ],
   "source": [
    "model_sklearn.intercept_"
   ]
  },
  {
   "cell_type": "code",
   "execution_count": 15,
   "id": "5bed068c-827f-414b-b2c2-0080e55deca2",
   "metadata": {},
   "outputs": [
    {
     "data": {
      "text/plain": [
       "array([[0.0526249]])"
      ]
     },
     "execution_count": 15,
     "metadata": {},
     "output_type": "execute_result"
    }
   ],
   "source": [
    "model_sklearn.coef_"
   ]
  },
  {
   "cell_type": "markdown",
   "id": "ee9ebe21-1080-433b-a080-962dae22e932",
   "metadata": {},
   "source": [
    " "
   ]
  },
  {
   "cell_type": "markdown",
   "id": "eb3b74e5-6074-4fce-b417-72e0cba78db0",
   "metadata": {},
   "source": [
    "Therefore the fitted model is\n",
    "$$\\hat{y} = \\hat{\\beta}_0 + \\hat{\\beta}_1 \\cdot x$$\n",
    "with parameters:\n",
    "    $$\\hat{\\beta}_0 = 1.27986835 $$\n",
    "    $$\\hat{\\beta}_1 = 0.0526249 $$"
   ]
  },
  {
   "cell_type": "markdown",
   "id": "964a26ed-324d-40e3-8097-bfedf771f27f",
   "metadata": {},
   "source": [
    "## Hypothesis testing\n",
    "We set the null and alternative hypotheses as follows.\n",
    "\n",
    "$H_0$: $\\beta_1 = 0$\n",
    "\n",
    "and\n",
    "\n",
    "$H_1$: $\\beta_1\\neq 0$\n",
    "\n",
    "in order to test whether our model is sufficient."
   ]
  },
  {
   "cell_type": "code",
   "execution_count": 16,
   "id": "ebc68c2f-a453-47ea-a52a-07bb1175a82b",
   "metadata": {},
   "outputs": [],
   "source": [
    "import statsmodels.api as sm"
   ]
  },
  {
   "cell_type": "code",
   "execution_count": 17,
   "id": "402e6007-b81f-46c1-b452-bf68b2196a7d",
   "metadata": {},
   "outputs": [],
   "source": [
    "import numpy as np"
   ]
  },
  {
   "cell_type": "code",
   "execution_count": 18,
   "id": "8c8af516-6023-4aa2-9bd4-9dde0dff451d",
   "metadata": {},
   "outputs": [],
   "source": [
    "# define response variable\n",
    "y = df.y\n",
    "\n",
    "# define predictor variables\n",
    "x = df.x\n",
    "\n",
    "#add constant to predictor variables\n",
    "x = sm.add_constant(x.values)\n",
    "# # alternatively:\n",
    "# df['const'] = np.ones(len(df))\n",
    "# x = df[['const', 'x']]"
   ]
  },
  {
   "cell_type": "code",
   "execution_count": 19,
   "id": "e0f3a63e-0cd9-47f5-8c9b-990def6f12b4",
   "metadata": {},
   "outputs": [],
   "source": [
    "#fit linear regression model\n",
    "model = sm.OLS(y, x).fit()"
   ]
  },
  {
   "cell_type": "code",
   "execution_count": 20,
   "id": "d8883d68-5956-4229-b349-b6baa8dd718c",
   "metadata": {},
   "outputs": [
    {
     "data": {
      "text/html": [
       "<table class=\"simpletable\">\n",
       "<caption>OLS Regression Results</caption>\n",
       "<tr>\n",
       "  <th>Dep. Variable:</th>            <td>y</td>        <th>  R-squared:         </th> <td>   0.824</td>\n",
       "</tr>\n",
       "<tr>\n",
       "  <th>Model:</th>                   <td>OLS</td>       <th>  Adj. R-squared:    </th> <td>   0.816</td>\n",
       "</tr>\n",
       "<tr>\n",
       "  <th>Method:</th>             <td>Least Squares</td>  <th>  F-statistic:       </th> <td>   102.7</td>\n",
       "</tr>\n",
       "<tr>\n",
       "  <th>Date:</th>             <td>Tue, 03 May 2022</td> <th>  Prob (F-statistic):</th> <td>9.43e-10</td>\n",
       "</tr>\n",
       "<tr>\n",
       "  <th>Time:</th>                 <td>19:23:00</td>     <th>  Log-Likelihood:    </th> <td> -6.6945</td>\n",
       "</tr>\n",
       "<tr>\n",
       "  <th>No. Observations:</th>      <td>    24</td>      <th>  AIC:               </th> <td>   17.39</td>\n",
       "</tr>\n",
       "<tr>\n",
       "  <th>Df Residuals:</th>          <td>    22</td>      <th>  BIC:               </th> <td>   19.75</td>\n",
       "</tr>\n",
       "<tr>\n",
       "  <th>Df Model:</th>              <td>     1</td>      <th>                     </th>     <td> </td>   \n",
       "</tr>\n",
       "<tr>\n",
       "  <th>Covariance Type:</th>      <td>nonrobust</td>    <th>                     </th>     <td> </td>   \n",
       "</tr>\n",
       "</table>\n",
       "<table class=\"simpletable\">\n",
       "<tr>\n",
       "    <td></td>       <th>coef</th>     <th>std err</th>      <th>t</th>      <th>P>|t|</th>  <th>[0.025</th>    <th>0.975]</th>  \n",
       "</tr>\n",
       "<tr>\n",
       "  <th>const</th> <td>    1.2799</td> <td>    0.216</td> <td>    5.934</td> <td> 0.000</td> <td>    0.833</td> <td>    1.727</td>\n",
       "</tr>\n",
       "<tr>\n",
       "  <th>x1</th>    <td>    0.0526</td> <td>    0.005</td> <td>   10.136</td> <td> 0.000</td> <td>    0.042</td> <td>    0.063</td>\n",
       "</tr>\n",
       "</table>\n",
       "<table class=\"simpletable\">\n",
       "<tr>\n",
       "  <th>Omnibus:</th>       <td> 0.657</td> <th>  Durbin-Watson:     </th> <td>   2.477</td>\n",
       "</tr>\n",
       "<tr>\n",
       "  <th>Prob(Omnibus):</th> <td> 0.720</td> <th>  Jarque-Bera (JB):  </th> <td>   0.650</td>\n",
       "</tr>\n",
       "<tr>\n",
       "  <th>Skew:</th>          <td>-0.009</td> <th>  Prob(JB):          </th> <td>   0.723</td>\n",
       "</tr>\n",
       "<tr>\n",
       "  <th>Kurtosis:</th>      <td> 2.194</td> <th>  Cond. No.          </th> <td>    131.</td>\n",
       "</tr>\n",
       "</table><br/><br/>Notes:<br/>[1] Standard Errors assume that the covariance matrix of the errors is correctly specified."
      ],
      "text/plain": [
       "<class 'statsmodels.iolib.summary.Summary'>\n",
       "\"\"\"\n",
       "                            OLS Regression Results                            \n",
       "==============================================================================\n",
       "Dep. Variable:                      y   R-squared:                       0.824\n",
       "Model:                            OLS   Adj. R-squared:                  0.816\n",
       "Method:                 Least Squares   F-statistic:                     102.7\n",
       "Date:                Tue, 03 May 2022   Prob (F-statistic):           9.43e-10\n",
       "Time:                        19:23:00   Log-Likelihood:                -6.6945\n",
       "No. Observations:                  24   AIC:                             17.39\n",
       "Df Residuals:                      22   BIC:                             19.75\n",
       "Df Model:                           1                                         \n",
       "Covariance Type:            nonrobust                                         \n",
       "==============================================================================\n",
       "                 coef    std err          t      P>|t|      [0.025      0.975]\n",
       "------------------------------------------------------------------------------\n",
       "const          1.2799      0.216      5.934      0.000       0.833       1.727\n",
       "x1             0.0526      0.005     10.136      0.000       0.042       0.063\n",
       "==============================================================================\n",
       "Omnibus:                        0.657   Durbin-Watson:                   2.477\n",
       "Prob(Omnibus):                  0.720   Jarque-Bera (JB):                0.650\n",
       "Skew:                          -0.009   Prob(JB):                        0.723\n",
       "Kurtosis:                       2.194   Cond. No.                         131.\n",
       "==============================================================================\n",
       "\n",
       "Notes:\n",
       "[1] Standard Errors assume that the covariance matrix of the errors is correctly specified.\n",
       "\"\"\""
      ]
     },
     "execution_count": 20,
     "metadata": {},
     "output_type": "execute_result"
    }
   ],
   "source": [
    "#view model summary\n",
    "model.summary()"
   ]
  },
  {
   "cell_type": "markdown",
   "id": "756936b7-9183-4379-abb9-99525f2e6d18",
   "metadata": {},
   "source": [
    " "
   ]
  },
  {
   "cell_type": "markdown",
   "id": "a7021434-3cda-48b7-a9ca-061eaa7310a7",
   "metadata": {},
   "source": [
    " "
   ]
  },
  {
   "cell_type": "markdown",
   "id": "939101e4-34e1-4ae3-bfaa-ece1d18b3e98",
   "metadata": {},
   "source": [
    "We can see from the model's summary that the t-value for $\\hat{\\beta}_1$ is (for $n-2 = 22$ degrees of freedom):\n",
    "\n",
    "$$t = 10.136$$\n",
    "\n",
    "and the respective p-value is:\n",
    "\n",
    "$$P(|t|>10.136) = 2 P(t>10.136) << 0.001$$\n",
    "\n",
    "which means that we reject $H_0$ and therefore our linear model can describe our data sufficiently.\n",
    "\n",
    "The model's summary also informs us about the confidence interval for $\\hat{\\beta}_1$:\n",
    "$$\n",
    "0.042 < \\hat{\\beta}_1 < 0.063\n",
    "$$"
   ]
  },
  {
   "cell_type": "markdown",
   "id": "1e81eabc-0938-4be0-8368-ed1207a71ccb",
   "metadata": {},
   "source": [
    " "
   ]
  },
  {
   "cell_type": "markdown",
   "id": "8c8375f4-1ee7-48f9-8105-51fc12fa5e63",
   "metadata": {
    "jp-MarkdownHeadingCollapsed": true,
    "tags": []
   },
   "source": [
    "### Model explanation\n",
    "\n",
    "The value of $\\hat{\\beta}_1$ shows how $y$ (cholesterol levels) will increase if we increase $x$ (a patient's age) by one. In our case cholesterol levels will increase by $10.136 \\,mg/ml$."
   ]
  },
  {
   "cell_type": "markdown",
   "id": "01b438fc-f56e-43d6-8d90-b2ec3c62eb80",
   "metadata": {},
   "source": [
    " ## A detailed analysis of the hypothesis testing"
   ]
  },
  {
   "cell_type": "markdown",
   "id": "7c46372d-c084-4dbc-a447-51fd8be27db4",
   "metadata": {},
   "source": [
    "A more detailed analysis of the hypothesis testing is presented below.\n",
    "\n",
    "Firstly we compute the following quantities:\n",
    "\n",
    "$$\n",
    "\\begin{aligned}\n",
    "    S_{xx} &= \\sum_i (x_i - \\bar{x})^2\\\\\n",
    "    S_{yy} &= \\sum_i (y_i - \\bar{y})^2\\\\\n",
    "    S_{xy} &= \\sum_i (x_i - \\bar{x})(y_i-\\bar{y})\n",
    "\\end{aligned}\n",
    "$$"
   ]
  },
  {
   "cell_type": "code",
   "execution_count": 21,
   "id": "bccceffe-49dd-4416-b32c-90a9b354fe5e",
   "metadata": {},
   "outputs": [],
   "source": [
    "Sxx = ((df.x-df.x.mean())**2).sum()"
   ]
  },
  {
   "cell_type": "code",
   "execution_count": 22,
   "id": "a01c59b1-ab2f-4eca-a577-bfd36d03df78",
   "metadata": {},
   "outputs": [],
   "source": [
    "Syy = ((df.y-df.y.mean())**2).sum()"
   ]
  },
  {
   "cell_type": "code",
   "execution_count": 23,
   "id": "444eb0c1-016e-4d29-b6a1-b34ede98e362",
   "metadata": {},
   "outputs": [],
   "source": [
    "Sxy = ((df.x-df.x.mean())*(df.y-df.y.mean())).sum()"
   ]
  },
  {
   "cell_type": "markdown",
   "id": "08f159b1-080a-478e-a46b-f6db0b97c662",
   "metadata": {},
   "source": [
    "We note that the coefficients of our model are given by the following relationships:\n",
    "$$\n",
    "\\begin{aligned}\n",
    "    \\hat{\\beta}_1 &= \\frac{S_{xy}}{S_{xx}}\\\\\n",
    "    \\hat{\\beta}_0 &= \\bar{y} - \\hat{\\beta}_1\\cdot \\bar{x}\n",
    "\\end{aligned}\n",
    "$$\n"
   ]
  },
  {
   "cell_type": "code",
   "execution_count": 24,
   "id": "9f054571-30f5-4c75-9c23-0caea71187bd",
   "metadata": {},
   "outputs": [
    {
     "data": {
      "text/plain": [
       "0.05262490438423445"
      ]
     },
     "execution_count": 24,
     "metadata": {},
     "output_type": "execute_result"
    }
   ],
   "source": [
    "beta1_hat = Sxy/Sxx\n",
    "beta1_hat"
   ]
  },
  {
   "cell_type": "code",
   "execution_count": 25,
   "id": "baeb0cbe-0fe6-4338-ae5a-eb9ab114dfd3",
   "metadata": {},
   "outputs": [
    {
     "data": {
      "text/plain": [
       "1.279868352188093"
      ]
     },
     "execution_count": 25,
     "metadata": {},
     "output_type": "execute_result"
    }
   ],
   "source": [
    "beta0_hat = df.y.mean()-beta1_hat*df.x.mean()\n",
    "beta0_hat"
   ]
  },
  {
   "cell_type": "markdown",
   "id": "dfc84c26-2b6a-449a-b0bb-7983f39c197a",
   "metadata": {},
   "source": [
    "Under the assumptions of normal regression analysis\n",
    "$$\n",
    "t = \\frac{\\hat{\\beta}_1 - \\beta_1}{\\hat{\\sigma}} \\sqrt{\\frac{(n-2)S_{xx}}{n}}\n",
    "$$\n",
    "is a value of a random variable having the $t$ distribution with $n-2$ degrees of freedom\n",
    "\n",
    "where $\\hat{\\sigma}$ is the maximum likelihood estimate of $\\sigma$ and is given by:\n",
    "$$\n",
    "\\begin{aligned}\n",
    "\\hat{\\sigma} &= \\sqrt{\\frac{1}{n}\\cdot \\sum_i (y_i - \\hat{y}_i)^2}\\\\\n",
    "             &=\\sqrt{\\frac{1}{n} \\left(S_{yy} - \\hat{\\beta}_1\\cdot S_{xy}\\right))}\n",
    "\\end{aligned}\n",
    "$$\n"
   ]
  },
  {
   "cell_type": "code",
   "execution_count": 26,
   "id": "f23f0b1c-1078-4a8b-80a3-9ed15a06b21c",
   "metadata": {},
   "outputs": [
    {
     "data": {
      "text/plain": [
       "0.3198182669083327"
      ]
     },
     "execution_count": 26,
     "metadata": {},
     "output_type": "execute_result"
    }
   ],
   "source": [
    "n = 24\n",
    "sigma_hat = np.sqrt((Syy - beta1_hat*Sxy)/n)\n",
    "sigma_hat"
   ]
  },
  {
   "cell_type": "code",
   "execution_count": 27,
   "id": "9fbd416c-1d86-41e9-b6e6-5ca3a83a2787",
   "metadata": {},
   "outputs": [
    {
     "data": {
      "text/plain": [
       "10.136434125901689"
      ]
     },
     "execution_count": 27,
     "metadata": {},
     "output_type": "execute_result"
    }
   ],
   "source": [
    "t_val =  (beta1_hat/sigma_hat) * np.sqrt((n-2)*Sxx/n)\n",
    "t_val"
   ]
  },
  {
   "cell_type": "markdown",
   "id": "bf52a338-f2b9-4516-89d2-a216999732e9",
   "metadata": {},
   "source": [
    "The p-value for the two-tailed test is given by:\n",
    "$$ \n",
    "P(|t|> 10.136) = 2\\cdot P(t>10.136) = 9.436\\times 10^{-10} << 0.01\n",
    "$$"
   ]
  },
  {
   "cell_type": "code",
   "execution_count": 28,
   "id": "9282bb64-a5d0-4fc6-b7a1-870727a099b8",
   "metadata": {},
   "outputs": [
    {
     "data": {
      "text/plain": [
       "9.435687786663038e-10"
      ]
     },
     "execution_count": 28,
     "metadata": {},
     "output_type": "execute_result"
    }
   ],
   "source": [
    "from scipy.stats import t\n",
    "\n",
    "# p-value\n",
    "2*(1-t.cdf(10.136,n-2))\n",
    "# # alternatively use:\n",
    "# 2*t.sf(10.136, df=22)"
   ]
  },
  {
   "cell_type": "markdown",
   "id": "80a043b5-8963-4070-9d8a-6f630a5ca9dd",
   "metadata": {},
   "source": [
    "which means that we reject $H_0$ as stated above"
   ]
  },
  {
   "cell_type": "markdown",
   "id": "0a56dadb-1ebf-485f-a9ff-ab092eb83451",
   "metadata": {},
   "source": [
    "##  A detailed analysis of the confidence interval\n",
    "\n",
    "Under the assumption of normal regression analysis,\n",
    "$$\n",
    "\\hat{\\beta_1} - t_{a/2} \\cdot \\hat{\\sigma}\\sqrt{\\frac{n}{(n-2)S_{xx}}} < \\beta_1 < \\hat{\\beta_1} + t_{a/2} \\cdot \\hat{\\sigma}\\sqrt{\\frac{n}{(n-2)S_{xx}}}\n",
    "$$\n",
    "is a $(1-a)100\\%$ confidence interval for the parameter $\\beta_1$"
   ]
  },
  {
   "cell_type": "code",
   "execution_count": 29,
   "id": "ecada89f-72f7-472e-9d4d-375e3ea146d1",
   "metadata": {},
   "outputs": [
    {
     "data": {
      "text/plain": [
       "[0.041858063644391985, 0.06339174512407691]"
      ]
     },
     "execution_count": 29,
     "metadata": {},
     "output_type": "execute_result"
    }
   ],
   "source": [
    "def conf_interv(a, n):\n",
    "    t_a2 = np.abs(t.ppf(np.abs(a/2),n-2))\n",
    "    return [beta1_hat - t_a2* sigma_hat*np.sqrt(n/((n-2)*Sxx)), beta1_hat + t_a2* sigma_hat*np.sqrt(n/((n-2)*Sxx))]\n",
    "\n",
    "# 95% confidence interval\n",
    "conf_interv(0.05,24) "
   ]
  },
  {
   "cell_type": "markdown",
   "id": "0c3cb978-7cdb-4753-8659-bf834a2e5fc9",
   "metadata": {},
   "source": [
    "## Predictions and confidence intervals\n",
    "\n",
    "Let us assume a prediction:\n",
    "$$\\hat{y}_0 = \\hat{\\beta}_0 + \\hat{\\beta}_1 \\cdot x_0$$\n",
    "\n",
    "We note that the quantity:\n",
    "$$\n",
    "t = \\frac{\\hat{y}_0 - y_0}{\\hat{\\sigma}\\sqrt{\\frac{n}{n-2}\\left(1+\\frac{1}{n}+\\frac{(x_0 - \\bar{x})^2}{S_{xx}}\\right)}}\n",
    "$$\n",
    "is a value of a random variable having the $t$-distribution with $n-2$ degrees of freedom\n",
    "\n",
    "<!-- therefore a confidence interval for the prediction is:\n",
    "$$\n",
    "\\hat{y}_0 - t_{a/2} \\cdot S \\cdot \\sqrt{\\left(1+\\frac{1}{n} + \\frac{(x_0 - \\bar{x})^2}{S_{xx}}\\right)} < \\hat{y}_0 <\\hat{y}_0 + t_{a/2} \\cdot S \\cdot \\sqrt{\\left(1+\\frac{1}{n} + \\frac{(x_0 - \\bar{x})^2}{S_{xx}}\\right)}\n",
    "$$\n",
    "where:\n",
    "$$\n",
    "\\begin{aligned}\n",
    "& S^2 = \\frac{1}{n-2}\\sum_i (y_i - \\hat{y}_i)^2\\\\\n",
    "\\Rightarrow & S= \\frac{n}{n-2}\\hat{\\sigma}\n",
    "\\end{aligned}\n",
    "$$ -->\n",
    "\n",
    "Therefore the confidence interval for the prediction is (prediction interval):\n",
    "$$\n",
    "\\hat{y}_0 - t_{a/2} \\cdot \\hat{\\sigma} \\cdot \\sqrt{\\frac{n}{n-2}\\left(1+\\frac{1}{n} + \\frac{(x_0 - \\bar{x})^2}{S_{xx}}\\right)} < \\hat{y}_0 < \\hat{y}_0 + t_{a/2} \\cdot \\hat{\\sigma} \\cdot \\sqrt{\\frac{n}{n-2}\\left(1+\\frac{1}{n} + \\frac{(x_0 - \\bar{x})^2}{S_{xx}}\\right)} \n",
    "$$\n",
    "\n",
    "whereas the confidence interval for the mean response is:\n",
    "$$\n",
    "\\hat{y}_0 - t_{a/2} \\cdot \\hat{\\sigma} \\cdot \\sqrt{\\frac{n}{n-2}\\left(\\frac{1}{n} + \\frac{(x_0 - \\bar{x})^2}{S_{xx}}\\right)} < \\mu_Y < \\hat{y}_0 + t_{a/2} \\cdot \\hat{\\sigma} \\cdot \\sqrt{\\frac{n}{n-2}\\left(\\frac{1}{n} + \\frac{(x_0 - \\bar{x})^2}{S_{xx}}\\right)} \n",
    "$$"
   ]
  },
  {
   "cell_type": "code",
   "execution_count": 30,
   "id": "df54d9bf-1cf5-4e6e-a1fb-c35dbcc09c7b",
   "metadata": {},
   "outputs": [
    {
     "data": {
      "text/plain": [
       "array([[3.12174001]])"
      ]
     },
     "execution_count": 30,
     "metadata": {},
     "output_type": "execute_result"
    }
   ],
   "source": [
    "model_sklearn.predict([[35]])"
   ]
  },
  {
   "cell_type": "code",
   "execution_count": 31,
   "id": "f98d3c6a-9338-49e3-9324-1f636d4121e4",
   "metadata": {},
   "outputs": [],
   "source": [
    "def prediction_conf_interv(a, n, model, xpred, data):\n",
    "    t_a2 = np.abs(t.ppf(a/2,n-2))\n",
    "    ypred = model.predict([[xpred]])\n",
    "\n",
    "    return [ypred - t_a2 * sigma_hat * np.sqrt((n/(n-2))*(1+ 1/n + (xpred - data.x.mean())**2/Sxx)),\n",
    "            ypred + t_a2 * sigma_hat * np.sqrt((n/(n-2))*(1+ 1/n + (xpred - data.x.mean())**2/Sxx))]"
   ]
  },
  {
   "cell_type": "code",
   "execution_count": 32,
   "id": "a46199ff-8439-444b-b771-268b52eff323",
   "metadata": {},
   "outputs": [],
   "source": [
    "def prediction_conf_interv_for_mean(a, n, model, xpred, data):\n",
    "    t_a2 = np.abs(t.ppf(a/2,n-2))\n",
    "    ypred = model.predict([[xpred]])\n",
    "\n",
    "    return [ypred - t_a2 * sigma_hat * np.sqrt((n/(n-2))*(1/n + (xpred - data.x.mean())**2/Sxx)),\n",
    "            ypred + t_a2 * sigma_hat * np.sqrt((n/(n-2))*(1/n + (xpred - data.x.mean())**2/Sxx))]"
   ]
  },
  {
   "cell_type": "code",
   "execution_count": 33,
   "id": "46a06620-99e1-485f-afd2-da2fa963759f",
   "metadata": {},
   "outputs": [
    {
     "data": {
      "text/plain": [
       "[array([[2.41310246]]), array([[3.83037755]])]"
      ]
     },
     "execution_count": 33,
     "metadata": {},
     "output_type": "execute_result"
    }
   ],
   "source": [
    "prediction_conf_interv(a=0.05, n=24, model=model_sklearn, xpred=35, data = df)"
   ]
  },
  {
   "cell_type": "code",
   "execution_count": 34,
   "id": "57872813-e9de-4a6b-92ca-a11876ef66a8",
   "metadata": {},
   "outputs": [
    {
     "data": {
      "text/plain": [
       "[array([[2.97255028]]), array([[3.27092973]])]"
      ]
     },
     "execution_count": 34,
     "metadata": {},
     "output_type": "execute_result"
    }
   ],
   "source": [
    "prediction_conf_interv_for_mean(a=0.05, n=24, model=model_sklearn, xpred=35, data = df)"
   ]
  },
  {
   "cell_type": "code",
   "execution_count": 35,
   "id": "c62753ab-9f02-4600-832e-425038e4e1fb",
   "metadata": {},
   "outputs": [
    {
     "data": {
      "text/html": [
       "<div>\n",
       "<style scoped>\n",
       "    .dataframe tbody tr th:only-of-type {\n",
       "        vertical-align: middle;\n",
       "    }\n",
       "\n",
       "    .dataframe tbody tr th {\n",
       "        vertical-align: top;\n",
       "    }\n",
       "\n",
       "    .dataframe thead th {\n",
       "        text-align: right;\n",
       "    }\n",
       "</style>\n",
       "<table border=\"1\" class=\"dataframe\">\n",
       "  <thead>\n",
       "    <tr style=\"text-align: right;\">\n",
       "      <th></th>\n",
       "      <th>mean</th>\n",
       "      <th>mean_se</th>\n",
       "      <th>mean_ci_lower</th>\n",
       "      <th>mean_ci_upper</th>\n",
       "      <th>obs_ci_lower</th>\n",
       "      <th>obs_ci_upper</th>\n",
       "    </tr>\n",
       "  </thead>\n",
       "  <tbody>\n",
       "    <tr>\n",
       "      <th>0</th>\n",
       "      <td>3.12174</td>\n",
       "      <td>0.071938</td>\n",
       "      <td>2.97255</td>\n",
       "      <td>3.27093</td>\n",
       "      <td>2.413102</td>\n",
       "      <td>3.830378</td>\n",
       "    </tr>\n",
       "  </tbody>\n",
       "</table>\n",
       "</div>"
      ],
      "text/plain": [
       "      mean   mean_se  mean_ci_lower  mean_ci_upper  obs_ci_lower  obs_ci_upper\n",
       "0  3.12174  0.071938        2.97255        3.27093      2.413102      3.830378"
      ]
     },
     "execution_count": 35,
     "metadata": {},
     "output_type": "execute_result"
    }
   ],
   "source": [
    "pred = model.get_prediction([[1., 35.]]).summary_frame(alpha=0.05)\n",
    "pred"
   ]
  },
  {
   "cell_type": "markdown",
   "id": "4c02af7e-b260-4ce7-b3fb-6a05ac01c875",
   "metadata": {},
   "source": [
    "which means that a $95\\%$ confidence interval for the prediction\n",
    "$$\\hat{y}_0 = 3.12$$\n",
    "is (prediction interval for $\\hat{y}_0$):\n",
    "$$2.41 < \\hat{y}_0 < 3.83$$\n",
    "and the confidence interval for the mean is:\n",
    "$$2.97 < \\mu_Y < 3.27$$"
   ]
  },
  {
   "cell_type": "code",
   "execution_count": null,
   "id": "f65cb3b8-351f-4119-87dc-81ee05a74c75",
   "metadata": {},
   "outputs": [],
   "source": []
  }
 ],
 "metadata": {
  "kernelspec": {
   "display_name": "Python 3 (ipykernel)",
   "language": "python",
   "name": "python3"
  },
  "language_info": {
   "codemirror_mode": {
    "name": "ipython",
    "version": 3
   },
   "file_extension": ".py",
   "mimetype": "text/x-python",
   "name": "python",
   "nbconvert_exporter": "python",
   "pygments_lexer": "ipython3",
   "version": "3.8.13"
  }
 },
 "nbformat": 4,
 "nbformat_minor": 5
}
