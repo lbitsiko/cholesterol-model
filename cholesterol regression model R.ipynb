{
 "cells": [
  {
   "cell_type": "markdown",
   "id": "c3e69921-da3d-4b98-a834-c8345dcaa809",
   "metadata": {},
   "source": [
    "# Cholesterol data regression model\n",
    "The data in cholesterol.txt include the total cholesterol levels ($mg/ml$) of 24 patients ($y$) and their age ($x$).\n",
    "* Plot a scatter plot between $y$ and $x$ and fit a linear regression model to the data.\n",
    "* Test the hypothesis $H_0$: $\\beta_1 = 0$ versus $H_1$: $\\beta_1\\neq 0 $ and calculate a $0.95$-confidence interval for the parameter of $x$ in the fitted model. How do we interpret $\\beta_1$?\n",
    "* Calculate a $0.95$-confidence interval for the cholesterol levels of a 35 years old patient as well as for the $E(y)$\n",
    "* Use a visual normality test and plot the residuals, $e_i$ vs the fitted values $\\hat{y}_i$. What can we infer?\n",
    "\n",
    "(Assignment for the course *Statistical Models* taught by Prof. Chrysseis Caroni, NTUA)"
   ]
  },
  {
   "cell_type": "markdown",
   "id": "5b17f5a4-7fc8-4830-88af-adac58f5f988",
   "metadata": {},
   "source": [
    "## Import data"
   ]
  },
  {
   "cell_type": "code",
   "execution_count": 1,
   "id": "3a8ba3a1-fed8-4bd4-a350-def91e1a839f",
   "metadata": {},
   "outputs": [
    {
     "data": {
      "text/html": [
       "<table>\n",
       "<thead><tr><th scope=col>y</th><th scope=col>x</th></tr></thead>\n",
       "<tbody>\n",
       "\t<tr><td>3.5</td><td>46 </td></tr>\n",
       "\t<tr><td>4.5</td><td>57 </td></tr>\n",
       "\t<tr><td>2.1</td><td>22 </td></tr>\n",
       "\t<tr><td>2.5</td><td>22 </td></tr>\n",
       "\t<tr><td>2.3</td><td>28 </td></tr>\n",
       "\t<tr><td>3.3</td><td>29 </td></tr>\n",
       "\t<tr><td>1.9</td><td>20 </td></tr>\n",
       "\t<tr><td>3.0</td><td>25 </td></tr>\n",
       "\t<tr><td>3.8</td><td>43 </td></tr>\n",
       "\t<tr><td>4.6</td><td>63 </td></tr>\n",
       "\t<tr><td>4.0</td><td>49 </td></tr>\n",
       "\t<tr><td>3.2</td><td>34 </td></tr>\n",
       "\t<tr><td>4.0</td><td>52 </td></tr>\n",
       "\t<tr><td>2.9</td><td>28 </td></tr>\n",
       "\t<tr><td>4.1</td><td>57 </td></tr>\n",
       "\t<tr><td>3.2</td><td>40 </td></tr>\n",
       "\t<tr><td>4.3</td><td>52 </td></tr>\n",
       "\t<tr><td>2.5</td><td>24 </td></tr>\n",
       "\t<tr><td>2.6</td><td>30 </td></tr>\n",
       "\t<tr><td>3.8</td><td>36 </td></tr>\n",
       "\t<tr><td>3.0</td><td>33 </td></tr>\n",
       "\t<tr><td>4.2</td><td>48 </td></tr>\n",
       "\t<tr><td>3.9</td><td>58 </td></tr>\n",
       "\t<tr><td>3.3</td><td>50 </td></tr>\n",
       "</tbody>\n",
       "</table>\n"
      ],
      "text/latex": [
       "\\begin{tabular}{r|ll}\n",
       " y & x\\\\\n",
       "\\hline\n",
       "\t 3.5 & 46 \\\\\n",
       "\t 4.5 & 57 \\\\\n",
       "\t 2.1 & 22 \\\\\n",
       "\t 2.5 & 22 \\\\\n",
       "\t 2.3 & 28 \\\\\n",
       "\t 3.3 & 29 \\\\\n",
       "\t 1.9 & 20 \\\\\n",
       "\t 3.0 & 25 \\\\\n",
       "\t 3.8 & 43 \\\\\n",
       "\t 4.6 & 63 \\\\\n",
       "\t 4.0 & 49 \\\\\n",
       "\t 3.2 & 34 \\\\\n",
       "\t 4.0 & 52 \\\\\n",
       "\t 2.9 & 28 \\\\\n",
       "\t 4.1 & 57 \\\\\n",
       "\t 3.2 & 40 \\\\\n",
       "\t 4.3 & 52 \\\\\n",
       "\t 2.5 & 24 \\\\\n",
       "\t 2.6 & 30 \\\\\n",
       "\t 3.8 & 36 \\\\\n",
       "\t 3.0 & 33 \\\\\n",
       "\t 4.2 & 48 \\\\\n",
       "\t 3.9 & 58 \\\\\n",
       "\t 3.3 & 50 \\\\\n",
       "\\end{tabular}\n"
      ],
      "text/markdown": [
       "\n",
       "| y | x |\n",
       "|---|---|\n",
       "| 3.5 | 46  |\n",
       "| 4.5 | 57  |\n",
       "| 2.1 | 22  |\n",
       "| 2.5 | 22  |\n",
       "| 2.3 | 28  |\n",
       "| 3.3 | 29  |\n",
       "| 1.9 | 20  |\n",
       "| 3.0 | 25  |\n",
       "| 3.8 | 43  |\n",
       "| 4.6 | 63  |\n",
       "| 4.0 | 49  |\n",
       "| 3.2 | 34  |\n",
       "| 4.0 | 52  |\n",
       "| 2.9 | 28  |\n",
       "| 4.1 | 57  |\n",
       "| 3.2 | 40  |\n",
       "| 4.3 | 52  |\n",
       "| 2.5 | 24  |\n",
       "| 2.6 | 30  |\n",
       "| 3.8 | 36  |\n",
       "| 3.0 | 33  |\n",
       "| 4.2 | 48  |\n",
       "| 3.9 | 58  |\n",
       "| 3.3 | 50  |\n",
       "\n"
      ],
      "text/plain": [
       "   y   x \n",
       "1  3.5 46\n",
       "2  4.5 57\n",
       "3  2.1 22\n",
       "4  2.5 22\n",
       "5  2.3 28\n",
       "6  3.3 29\n",
       "7  1.9 20\n",
       "8  3.0 25\n",
       "9  3.8 43\n",
       "10 4.6 63\n",
       "11 4.0 49\n",
       "12 3.2 34\n",
       "13 4.0 52\n",
       "14 2.9 28\n",
       "15 4.1 57\n",
       "16 3.2 40\n",
       "17 4.3 52\n",
       "18 2.5 24\n",
       "19 2.6 30\n",
       "20 3.8 36\n",
       "21 3.0 33\n",
       "22 4.2 48\n",
       "23 3.9 58\n",
       "24 3.3 50"
      ]
     },
     "metadata": {},
     "output_type": "display_data"
    }
   ],
   "source": [
    "data <- read.table(\"./data/cholesterol.txt\", header = TRUE)\n",
    "attach(data)\n",
    "data"
   ]
  },
  {
   "cell_type": "markdown",
   "id": "5d2a8da9-dc30-48f6-a93f-806f206868f1",
   "metadata": {},
   "source": [
    "## Histograms"
   ]
  },
  {
   "cell_type": "code",
   "execution_count": 2,
   "id": "5c8a8141-30da-44aa-9d9f-dd45b628f412",
   "metadata": {},
   "outputs": [
    {
     "data": {
      "image/png": "[encoded data removed]",
      "text/plain": [
       "Plot with title \"Histogram of x\""
      ]
     },
     "metadata": {},
     "output_type": "display_data"
    }
   ],
   "source": [
    "library(repr)\n",
    "options(repr.plot.width=4, repr.plot.height=4) # Change plot size to 4 x 3\n",
    "hist(x)"
   ]
  },
  {
   "cell_type": "code",
   "execution_count": 3,
   "id": "881c8c5d-7027-49c6-95e7-458cdc2d8e49",
   "metadata": {},
   "outputs": [
    {
     "data": {
      "image/png": "[encoded data removed]",
      "text/plain": [
       "Plot with title \"Histogram of y\""
      ]
     },
     "metadata": {},
     "output_type": "display_data"
    }
   ],
   "source": [
    "hist(y)"
   ]
  },
  {
   "cell_type": "markdown",
   "id": "c5ab7877-0947-4581-aba3-ac16ff462894",
   "metadata": {},
   "source": [
    "## Fit a linear model"
   ]
  },
  {
   "cell_type": "code",
   "execution_count": 4,
   "id": "e57cf851-eb39-41e2-8188-44a85440c49f",
   "metadata": {},
   "outputs": [
    {
     "data": {
      "text/plain": [
       "\n",
       "Call:\n",
       "lm(formula = y ~ x)\n",
       "\n",
       "Coefficients:\n",
       "(Intercept)            x  \n",
       "    1.27987      0.05262  \n"
      ]
     },
     "metadata": {},
     "output_type": "display_data"
    },
    {
     "data": {
      "image/png": "[encoded data removed]",
      "text/plain": [
       "plot without title"
      ]
     },
     "metadata": {},
     "output_type": "display_data"
    }
   ],
   "source": [
    "# data plot and linear regression\n",
    "plot(y~x,pch=19)\n",
    "lm(y~x)\n",
    "abline(lm(y~x))"
   ]
  },
  {
   "cell_type": "markdown",
   "id": "eb3b74e5-6074-4fce-b417-72e0cba78db0",
   "metadata": {},
   "source": [
    "Therefore the fitted model is\n",
    "$$\\hat{y} = \\hat{\\beta}_0 + \\hat{\\beta}_1 \\cdot x$$\n",
    "with parameters:\n",
    "    $$\\hat{\\beta}_0 = 1.27987$$\n",
    "    $$\\hat{\\beta}_1 = 0.05262$$"
   ]
  },
  {
   "cell_type": "markdown",
   "id": "964a26ed-324d-40e3-8097-bfedf771f27f",
   "metadata": {},
   "source": [
    "## Hypothesis testing\n",
    "We set the null and alternative hypotheses as follows.\n",
    "\n",
    "$H_0$: $\\beta_1 = 0$\n",
    "\n",
    "and\n",
    "\n",
    "$H_1$: $\\beta_1\\neq 0$\n",
    "\n",
    "in order to test whether our model is sufficient."
   ]
  },
  {
   "cell_type": "code",
   "execution_count": 5,
   "id": "d8883d68-5956-4229-b349-b6baa8dd718c",
   "metadata": {},
   "outputs": [
    {
     "data": {
      "text/plain": [
       "\n",
       "Call:\n",
       "lm(formula = y ~ x)\n",
       "\n",
       "Coefficients:\n",
       "(Intercept)            x  \n",
       "    1.27987      0.05262  \n"
      ]
     },
     "metadata": {},
     "output_type": "display_data"
    },
    {
     "data": {
      "text/plain": [
       "\n",
       "Call:\n",
       "lm(formula = y ~ x)\n",
       "\n",
       "Residuals:\n",
       "    Min      1Q  Median      3Q     Max \n",
       "-0.6111 -0.2151 -0.0058  0.2297  0.6256 \n",
       "\n",
       "Coefficients:\n",
       "            Estimate Std. Error t value Pr(>|t|)    \n",
       "(Intercept) 1.279868   0.215699   5.934 5.69e-06 ***\n",
       "x           0.052625   0.005192  10.136 9.43e-10 ***\n",
       "---\n",
       "Signif. codes:  0 '***' 0.001 '**' 0.01 '*' 0.05 '.' 0.1 ' ' 1\n",
       "\n",
       "Residual standard error: 0.334 on 22 degrees of freedom\n",
       "Multiple R-squared:  0.8236,\tAdjusted R-squared:  0.8156 \n",
       "F-statistic: 102.7 on 1 and 22 DF,  p-value: 9.428e-10\n"
      ]
     },
     "metadata": {},
     "output_type": "display_data"
    }
   ],
   "source": [
    "# regression model details\n",
    "model <- lm(y~x)\n",
    "model\n",
    "summary(model)"
   ]
  },
  {
   "cell_type": "markdown",
   "id": "756936b7-9183-4379-abb9-99525f2e6d18",
   "metadata": {},
   "source": [
    " "
   ]
  },
  {
   "cell_type": "markdown",
   "id": "a7021434-3cda-48b7-a9ca-061eaa7310a7",
   "metadata": {},
   "source": [
    " "
   ]
  },
  {
   "cell_type": "markdown",
   "id": "117f7583-8ccf-49d3-b245-f4fdebc6114b",
   "metadata": {},
   "source": [
    "We can see from the model's summary that the t-value for $\\hat{\\beta}_1$ is (for $n-2 = 22$ degrees of freedom):\n",
    "\n",
    "$$t = 10.136$$\n",
    "\n",
    "and the respective p-value is:\n",
    "\n",
    "$$P(|t|>10.136) = 2 P(t>10.136) << 0.001$$\n",
    "\n",
    "which means that we reject $H_0$ and therefore our linear model can describe our data sufficiently."
   ]
  },
  {
   "cell_type": "code",
   "execution_count": 6,
   "id": "56cc9618-6973-48aa-b017-cc637f1e7db1",
   "metadata": {},
   "outputs": [
    {
     "data": {
      "text/html": [
       "<table>\n",
       "<thead><tr><th></th><th scope=col>2.5 %</th><th scope=col>97.5 %</th></tr></thead>\n",
       "<tbody>\n",
       "\t<tr><th scope=row>(Intercept)</th><td>0.83253668</td><td>1.72720003</td></tr>\n",
       "\t<tr><th scope=row>x</th><td>0.04185806</td><td>0.06339175</td></tr>\n",
       "</tbody>\n",
       "</table>\n"
      ],
      "text/latex": [
       "\\begin{tabular}{r|ll}\n",
       "  & 2.5 \\% & 97.5 \\%\\\\\n",
       "\\hline\n",
       "\t(Intercept) & 0.83253668 & 1.72720003\\\\\n",
       "\tx & 0.04185806 & 0.06339175\\\\\n",
       "\\end{tabular}\n"
      ],
      "text/markdown": [
       "\n",
       "| <!--/--> | 2.5 % | 97.5 % |\n",
       "|---|---|---|\n",
       "| (Intercept) | 0.83253668 | 1.72720003 |\n",
       "| x | 0.04185806 | 0.06339175 |\n",
       "\n"
      ],
      "text/plain": [
       "            2.5 %      97.5 %    \n",
       "(Intercept) 0.83253668 1.72720003\n",
       "x           0.04185806 0.06339175"
      ]
     },
     "metadata": {},
     "output_type": "display_data"
    }
   ],
   "source": [
    "# 0.95 confidence interval for b0, b1\n",
    "confint(model)"
   ]
  },
  {
   "cell_type": "markdown",
   "id": "9dd5f076-9cbb-4c29-a10f-bc4733b62a90",
   "metadata": {},
   "source": [
    "Therefore the confidence interval for $\\hat{\\beta}_1$:\n",
    "$$\n",
    "0.04185806 < \\hat{\\beta}_1 < 0.06339175\n",
    "$$"
   ]
  },
  {
   "cell_type": "markdown",
   "id": "da72bf16-b5b5-418a-8815-20f7f3db1747",
   "metadata": {},
   "source": [
    " "
   ]
  },
  {
   "cell_type": "markdown",
   "id": "8c8375f4-1ee7-48f9-8105-51fc12fa5e63",
   "metadata": {
    "jp-MarkdownHeadingCollapsed": true,
    "tags": []
   },
   "source": [
    "### Model explanation\n",
    "\n",
    "The value of $\\hat{\\beta}_1$ shows how $y$ (cholesterol levels) will increase if we increase $x$ (a patient's age) by one. In our case cholesterol levels will increase by $10.136 \\,mg/ml$."
   ]
  },
  {
   "cell_type": "markdown",
   "id": "7c46372d-c084-4dbc-a447-51fd8be27db4",
   "metadata": {},
   "source": [
    "## A more detailed analysis of the hypothesis testing is presented below.\n",
    "\n",
    "Firstly we compute the following quantities:\n",
    "\n",
    "$$\n",
    "\\begin{aligned}\n",
    "    S_{xx} &= \\sum_i (x_i - \\bar{x})^2\\\\\n",
    "    S_{yy} &= \\sum_i (y_i - \\bar{y})^2\\\\\n",
    "    S_{xy} &= \\sum_i (x_i - \\bar{x})(y_i-\\bar{y})\n",
    "\\end{aligned}\n",
    "$$"
   ]
  },
  {
   "cell_type": "code",
   "execution_count": 7,
   "id": "f5f824dd-0733-4dfe-8eca-ccff63e97b91",
   "metadata": {},
   "outputs": [],
   "source": [
    "Sxx <- sum((x - mean(x))^2)"
   ]
  },
  {
   "cell_type": "code",
   "execution_count": 8,
   "id": "b7832eeb-9aaf-4521-b983-411fb0c7756e",
   "metadata": {},
   "outputs": [],
   "source": [
    "Syy <- sum((y - mean(y))^2)"
   ]
  },
  {
   "cell_type": "code",
   "execution_count": 9,
   "id": "0ff1b2b0-0e48-49e0-af04-22e0983f306e",
   "metadata": {},
   "outputs": [],
   "source": [
    "Sxy <- sum((x-mean(x))*(y-mean(y)))"
   ]
  },
  {
   "cell_type": "markdown",
   "id": "08f159b1-080a-478e-a46b-f6db0b97c662",
   "metadata": {},
   "source": [
    "We note that the coefficients of our model are given by the following relationships:\n",
    "$$\n",
    "\\begin{aligned}\n",
    "    \\hat{\\beta}_1 &= \\frac{S_{xy}}{S_{xx}}\\\\\n",
    "    \\hat{\\beta}_0 &= \\bar{y} - \\hat{\\beta}_1\\cdot \\bar{x}\n",
    "\\end{aligned}\n",
    "$$\n"
   ]
  },
  {
   "cell_type": "code",
   "execution_count": 10,
   "id": "f3abe8b6-970a-4508-a463-88fc5521eaf4",
   "metadata": {},
   "outputs": [
    {
     "data": {
      "text/html": [
       "0.0526249043842345"
      ],
      "text/latex": [
       "0.0526249043842345"
      ],
      "text/markdown": [
       "0.0526249043842345"
      ],
      "text/plain": [
       "[1] 0.0526249"
      ]
     },
     "metadata": {},
     "output_type": "display_data"
    }
   ],
   "source": [
    "beta1_hat <- Sxy/Sxx\n",
    "beta1_hat"
   ]
  },
  {
   "cell_type": "code",
   "execution_count": 11,
   "id": "baeb0cbe-0fe6-4338-ae5a-eb9ab114dfd3",
   "metadata": {},
   "outputs": [
    {
     "data": {
      "text/html": [
       "1.27986835218809"
      ],
      "text/latex": [
       "1.27986835218809"
      ],
      "text/markdown": [
       "1.27986835218809"
      ],
      "text/plain": [
       "[1] 1.279868"
      ]
     },
     "metadata": {},
     "output_type": "display_data"
    }
   ],
   "source": [
    "beta0_hat <- mean(y) - beta1_hat*mean(x)\n",
    "beta0_hat"
   ]
  },
  {
   "cell_type": "markdown",
   "id": "dfc84c26-2b6a-449a-b0bb-7983f39c197a",
   "metadata": {},
   "source": [
    "Under the assumptions of normal regression analysis\n",
    "$$\n",
    "t = \\frac{\\hat{\\beta}_1 - \\beta_1}{\\hat{\\sigma}} \\sqrt{\\frac{(n-2)S_{xx}}{n}}\n",
    "$$\n",
    "is a value of a random variable having the $t$ distribution with $n-2$ degrees of freedom\n",
    "\n",
    "where $\\hat{\\sigma}$ is the maximum likelihood estimate of $\\sigma$ and is given by:\n",
    "$$\n",
    "\\begin{aligned}\n",
    "\\hat{\\sigma} &= \\sqrt{\\frac{1}{n}\\cdot \\sum_i (y_i - \\hat{y}_i)^2}\\\\\n",
    "             &=\\sqrt{\\frac{1}{n} \\left(S_{yy} - \\hat{\\beta}_1\\cdot S_{xy}\\right))}\n",
    "\\end{aligned}\n",
    "$$\n"
   ]
  },
  {
   "cell_type": "code",
   "execution_count": 12,
   "id": "c3169343-2b9d-4a32-b898-c4f024523dbb",
   "metadata": {},
   "outputs": [
    {
     "data": {
      "text/html": [
       "0.319818266908332"
      ],
      "text/latex": [
       "0.319818266908332"
      ],
      "text/markdown": [
       "0.319818266908332"
      ],
      "text/plain": [
       "[1] 0.3198183"
      ]
     },
     "metadata": {},
     "output_type": "display_data"
    }
   ],
   "source": [
    "n <- length(x)#24\n",
    "sigma_hat <- sqrt((Syy-beta1_hat*Sxy)/n)\n",
    "sigma_hat"
   ]
  },
  {
   "cell_type": "code",
   "execution_count": 13,
   "id": "9fbd416c-1d86-41e9-b6e6-5ca3a83a2787",
   "metadata": {},
   "outputs": [
    {
     "data": {
      "text/html": [
       "10.1364341259017"
      ],
      "text/latex": [
       "10.1364341259017"
      ],
      "text/markdown": [
       "10.1364341259017"
      ],
      "text/plain": [
       "[1] 10.13643"
      ]
     },
     "metadata": {},
     "output_type": "display_data"
    }
   ],
   "source": [
    "t_val =  (beta1_hat/sigma_hat) * sqrt((n-2)*Sxx/n)\n",
    "t_val"
   ]
  },
  {
   "cell_type": "markdown",
   "id": "bf52a338-f2b9-4516-89d2-a216999732e9",
   "metadata": {},
   "source": [
    "The p-value for the two-tailed test is given by:\n",
    "$$ \n",
    "P(|t|> 10.136) = 2\\cdot P(t>10.1364341259017) = 9.436\\times 10^{-10} << 0.01\n",
    "$$"
   ]
  },
  {
   "cell_type": "code",
   "execution_count": 14,
   "id": "bab0aa3e-94c3-42fa-9d2f-304f93b50289",
   "metadata": {},
   "outputs": [
    {
     "data": {
      "text/html": [
       "9.43568901451703e-10"
      ],
      "text/latex": [
       "9.43568901451703e-10"
      ],
      "text/markdown": [
       "9.43568901451703e-10"
      ],
      "text/plain": [
       "[1] 9.435689e-10"
      ]
     },
     "metadata": {},
     "output_type": "display_data"
    }
   ],
   "source": [
    "# p-value\n",
    "2*pt(q=10.136, df=n-2, lower.tail=FALSE)"
   ]
  },
  {
   "cell_type": "markdown",
   "id": "80a043b5-8963-4070-9d8a-6f630a5ca9dd",
   "metadata": {},
   "source": [
    "which means that we reject $H_0$ as stated above"
   ]
  },
  {
   "cell_type": "markdown",
   "id": "0a56dadb-1ebf-485f-a9ff-ab092eb83451",
   "metadata": {},
   "source": [
    "##  A detailed analysis of the confidence interval\n",
    "\n",
    "Under the assumption of normal regression analysis,\n",
    "$$\n",
    "\\hat{\\beta_1} - t_{a/2} \\cdot \\hat{\\sigma}\\sqrt{\\frac{n}{(n-2)S_{xx}}} < \\beta_1 < \\hat{\\beta_1} + t_{a/2} \\cdot \\hat{\\sigma}\\sqrt{\\frac{n}{(n-2)S_{xx}}}\n",
    "$$\n",
    "is a $(1-a)100\\%$ confidence interval for the parameter $\\beta_1$"
   ]
  },
  {
   "cell_type": "code",
   "execution_count": 15,
   "id": "6b0ef6be-7572-492e-874c-2ebdde5ca7da",
   "metadata": {},
   "outputs": [],
   "source": [
    "conf_interv <- function(a, n) {\n",
    "    t_a2 <- abs(qt(abs(a/2),n-2))\n",
    "    print(beta1_hat - t_a2* sigma_hat*sqrt(n/((n-2)*Sxx)))\n",
    "    print(beta1_hat + t_a2* sigma_hat*sqrt(n/((n-2)*Sxx))) \n",
    "}"
   ]
  },
  {
   "cell_type": "code",
   "execution_count": 16,
   "id": "7dfeb2c1-4faf-4dbd-9428-302777e157bb",
   "metadata": {},
   "outputs": [
    {
     "name": "stdout",
     "output_type": "stream",
     "text": [
      "[1] 0.04185806\n",
      "[1] 0.06339175\n"
     ]
    }
   ],
   "source": [
    "# 95% confidence interval\n",
    "conf_interv(0.05,24) "
   ]
  },
  {
   "cell_type": "markdown",
   "id": "0c3cb978-7cdb-4753-8659-bf834a2e5fc9",
   "metadata": {},
   "source": [
    "## Predictions and confidence intervals\n",
    "\n",
    "Let us assume a prediction:\n",
    "$$\\hat{y}_0 = \\hat{\\beta}_0 + \\hat{\\beta}_1 \\cdot x_0$$\n",
    "\n",
    "We note that the quantity:\n",
    "$$\n",
    "t = \\frac{\\hat{y}_0 - y_0}{\\hat{\\sigma}\\sqrt{\\frac{n}{n-2}\\left(1+\\frac{1}{n}+\\frac{(x_0 - \\bar{x})^2}{S_{xx}}\\right)}}\n",
    "$$\n",
    "is a value of a random variable having the $t$-distribution with $n-2$ degrees of freedom\n",
    "\n",
    "<!-- therefore a confidence interval for the prediction is:\n",
    "$$\n",
    "\\hat{y}_0 - t_{a/2} \\cdot S \\cdot \\sqrt{\\left(1+\\frac{1}{n} + \\frac{(x_0 - \\bar{x})^2}{S_{xx}}\\right)} < \\hat{y}_0 <\\hat{y}_0 + t_{a/2} \\cdot S \\cdot \\sqrt{\\left(1+\\frac{1}{n} + \\frac{(x_0 - \\bar{x})^2}{S_{xx}}\\right)}\n",
    "$$\n",
    "where:\n",
    "$$\n",
    "\\begin{aligned}\n",
    "& S^2 = \\frac{1}{n-2}\\sum_i (y_i - \\hat{y}_i)^2\\\\\n",
    "\\Rightarrow & S= \\frac{n}{n-2}\\hat{\\sigma}\n",
    "\\end{aligned}\n",
    "$$ -->\n",
    "\n",
    "Therefore the confidence interval for the prediction is (prediction interval):\n",
    "$$\n",
    "\\hat{y}_0 - t_{a/2} \\cdot \\hat{\\sigma} \\cdot \\sqrt{\\frac{n}{n-2}\\left(1+\\frac{1}{n} + \\frac{(x_0 - \\bar{x})^2}{S_{xx}}\\right)} < \\hat{y}_0 < \\hat{y}_0 + t_{a/2} \\cdot \\hat{\\sigma} \\cdot \\sqrt{\\frac{n}{n-2}\\left(1+\\frac{1}{n} + \\frac{(x_0 - \\bar{x})^2}{S_{xx}}\\right)} \n",
    "$$\n",
    "\n",
    "whereas the confidence interval for the mean response is:\n",
    "$$\n",
    "\\hat{y}_0 - t_{a/2} \\cdot \\hat{\\sigma} \\cdot \\sqrt{\\frac{n}{n-2}\\left(\\frac{1}{n} + \\frac{(x_0 - \\bar{x})^2}{S_{xx}}\\right)} < \\mu_Y < \\hat{y}_0 + t_{a/2} \\cdot \\hat{\\sigma} \\cdot \\sqrt{\\frac{n}{n-2}\\left(\\frac{1}{n} + \\frac{(x_0 - \\bar{x})^2}{S_{xx}}\\right)} \n",
    "$$"
   ]
  },
  {
   "cell_type": "code",
   "execution_count": 17,
   "id": "cbb922b9-08fd-44aa-a13a-c47cc30d1920",
   "metadata": {},
   "outputs": [
    {
     "data": {
      "text/html": [
       "<table>\n",
       "<thead><tr><th scope=col>fit</th><th scope=col>lwr</th><th scope=col>upr</th></tr></thead>\n",
       "<tbody>\n",
       "\t<tr><td>3.12174 </td><td>2.413102</td><td>3.830378</td></tr>\n",
       "</tbody>\n",
       "</table>\n"
      ],
      "text/latex": [
       "\\begin{tabular}{r|lll}\n",
       " fit & lwr & upr\\\\\n",
       "\\hline\n",
       "\t 3.12174  & 2.413102 & 3.830378\\\\\n",
       "\\end{tabular}\n"
      ],
      "text/markdown": [
       "\n",
       "| fit | lwr | upr |\n",
       "|---|---|---|\n",
       "| 3.12174  | 2.413102 | 3.830378 |\n",
       "\n"
      ],
      "text/plain": [
       "  fit     lwr      upr     \n",
       "1 3.12174 2.413102 3.830378"
      ]
     },
     "metadata": {},
     "output_type": "display_data"
    }
   ],
   "source": [
    "# for 35 years old patient\n",
    "predict(model, newdata=list(x=35), interval = \"prediction\", level = .95)"
   ]
  },
  {
   "cell_type": "code",
   "execution_count": 18,
   "id": "17fb9cb4-5102-4e46-a72b-eee8bff2e0bc",
   "metadata": {},
   "outputs": [
    {
     "data": {
      "text/html": [
       "<table>\n",
       "<thead><tr><th scope=col>fit</th><th scope=col>lwr</th><th scope=col>upr</th></tr></thead>\n",
       "<tbody>\n",
       "\t<tr><td>3.12174</td><td>2.97255</td><td>3.27093</td></tr>\n",
       "</tbody>\n",
       "</table>\n"
      ],
      "text/latex": [
       "\\begin{tabular}{r|lll}\n",
       " fit & lwr & upr\\\\\n",
       "\\hline\n",
       "\t 3.12174 & 2.97255 & 3.27093\\\\\n",
       "\\end{tabular}\n"
      ],
      "text/markdown": [
       "\n",
       "| fit | lwr | upr |\n",
       "|---|---|---|\n",
       "| 3.12174 | 2.97255 | 3.27093 |\n",
       "\n"
      ],
      "text/plain": [
       "  fit     lwr     upr    \n",
       "1 3.12174 2.97255 3.27093"
      ]
     },
     "metadata": {},
     "output_type": "display_data"
    }
   ],
   "source": [
    "# for the mean y at x=35\n",
    "predict(model, newdata = list(x=35),interval = \"confidence\", level = .95) "
   ]
  },
  {
   "cell_type": "markdown",
   "id": "4c02af7e-b260-4ce7-b3fb-6a05ac01c875",
   "metadata": {},
   "source": [
    "which means that a $95\\%$ confidence interval for the prediction\n",
    "$$\\hat{y}_0 = 3.12$$\n",
    "is (prediction interval for $\\hat{y}_0$):\n",
    "$$2.413102 < \\hat{y}_0 < 3.830378$$\n",
    "and the confidence interval for the mean is:\n",
    "$$2.97255< \\mu_Y < 3.27093$$"
   ]
  },
  {
   "cell_type": "markdown",
   "id": "bfe1c5fa-3ac4-4c85-9dbd-2c820e1ce52e",
   "metadata": {},
   "source": [
    "# Visual normality test for residuals "
   ]
  },
  {
   "cell_type": "code",
   "execution_count": 19,
   "id": "32f4d0db-6d5c-4ed6-9787-fc86435edfbe",
   "metadata": {},
   "outputs": [
    {
     "data": {
      "image/png": "[encoded data removed]",
      "text/plain": [
       "Plot with title \"Normal Q-Q Plot\""
      ]
     },
     "metadata": {},
     "output_type": "display_data"
    }
   ],
   "source": [
    "# normal q-q plot\n",
    "qqnorm(model$residuals,pch=19)\n",
    "qqline(model$residuals)"
   ]
  },
  {
   "cell_type": "markdown",
   "id": "0b15ec0c-ce78-4519-9a7d-43fed98bc291",
   "metadata": {},
   "source": [
    "The qq-plot is excellent (points fall on red line). The residuals seem to be normally distributed."
   ]
  },
  {
   "cell_type": "code",
   "execution_count": 20,
   "id": "371f9449-3194-4ae6-9562-4a55b77c0c62",
   "metadata": {},
   "outputs": [
    {
     "data": {
      "image/png": "[encoded data removed]",
      "text/plain": [
       "Plot with title \"\""
      ]
     },
     "metadata": {},
     "output_type": "display_data"
    }
   ],
   "source": [
    "# residuals vs fitted plot\n",
    "plot(model, which = 1, pch=19)"
   ]
  },
  {
   "cell_type": "markdown",
   "id": "2c61629f-1c05-4066-b020-250b5d32abea",
   "metadata": {},
   "source": [
    "Residuals should be normally distributed around each fitted value, under the assumption that our data are normally distributed. In that case (data and residuals normally distributed), the residuals plot would show the majority of points at the center of the plot (grey dashed line) with some points drifting symmetrically from the center.\n",
    "\n",
    "*Homoscedasticity* means that the residuals are approximately equal for all fitted values. In that case, the residuals plot should have the same width for all the fitted values. On the contrary, *heteroscedasticity* is evident in a residuals plot by a cluster of points that gets wider as fitted values increase.\n",
    "\n",
    "A lowess fit (red line) is fitted in order to better show any trend in data.\n",
    "\n",
    "It is evident that both the normality and homoscedasticity assumptions are satisfied."
   ]
  },
  {
   "cell_type": "markdown",
   "id": "d9e1d963-a5cc-4646-8288-ca039580bd85",
   "metadata": {},
   "source": [
    "### Some additional plots and statistics"
   ]
  },
  {
   "cell_type": "code",
   "execution_count": 21,
   "id": "1bbb21d3-614f-40ff-a337-7a689793e2c4",
   "metadata": {},
   "outputs": [
    {
     "data": {
      "image/png": "[encoded data removed]",
      "text/plain": [
       "plot without title"
      ]
     },
     "metadata": {},
     "output_type": "display_data"
    }
   ],
   "source": [
    "#ei vs xi\n",
    "plot(model$residuals, x)"
   ]
  },
  {
   "cell_type": "code",
   "execution_count": 22,
   "id": "e8ce3d7e-ac41-4dc8-92bd-2800a4a301b5",
   "metadata": {},
   "outputs": [
    {
     "data": {
      "image/png": "[encoded data removed]",
      "text/plain": [
       "Plot with title \"\""
      ]
     },
     "metadata": {},
     "output_type": "display_data"
    }
   ],
   "source": [
    "#synopsis\n",
    "options(repr.plot.width=8, repr.plot.height=8)\n",
    "par(mfrow=c(2,2))\n",
    "plot(model, pch = 19)"
   ]
  },
  {
   "cell_type": "code",
   "execution_count": 23,
   "id": "29a9ca76-d075-4440-ab7a-b7ec046ef672",
   "metadata": {},
   "outputs": [
    {
     "data": {
      "text/html": [
       "0.907548055540114"
      ],
      "text/latex": [
       "0.907548055540114"
      ],
      "text/markdown": [
       "0.907548055540114"
      ],
      "text/plain": [
       "[1] 0.9075481"
      ]
     },
     "metadata": {},
     "output_type": "display_data"
    },
    {
     "data": {
      "text/plain": [
       "\n",
       "\tPearson's product-moment correlation\n",
       "\n",
       "data:  x and y\n",
       "t = 10.136, df = 22, p-value = 9.428e-10\n",
       "alternative hypothesis: true correlation is not equal to 0\n",
       "95 percent confidence interval:\n",
       " 0.7953192 0.9596244\n",
       "sample estimates:\n",
       "      cor \n",
       "0.9075481 \n"
      ]
     },
     "metadata": {},
     "output_type": "display_data"
    }
   ],
   "source": [
    "# cor test\n",
    "cor(x,y)\n",
    "cor.test(x,y)"
   ]
  },
  {
   "cell_type": "code",
   "execution_count": null,
   "id": "32fe0d5e-a5b8-4b3f-b6e9-0b3f236868b3",
   "metadata": {},
   "outputs": [],
   "source": []
  }
 ],
 "metadata": {
  "kernelspec": {
   "display_name": "R",
   "language": "R",
   "name": "ir"
  },
  "language_info": {
   "codemirror_mode": "r",
   "file_extension": ".r",
   "mimetype": "text/x-r-source",
   "name": "R",
   "pygments_lexer": "r",
   "version": "3.6.1"
  }
 },
 "nbformat": 4,
 "nbformat_minor": 5
}
